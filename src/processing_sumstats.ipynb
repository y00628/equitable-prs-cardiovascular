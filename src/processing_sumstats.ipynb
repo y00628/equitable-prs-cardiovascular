{
 "cells": [
  {
   "cell_type": "code",
   "execution_count": 3,
   "metadata": {},
   "outputs": [],
   "source": [
    "import pandas as pd\n",
    "import os\n",
    "import subprocess"
   ]
  },
  {
   "cell_type": "code",
   "execution_count": 4,
   "metadata": {},
   "outputs": [],
   "source": [
    "def generate_snp_list(chromosome):\n",
    "    plink_path = \"plink\"\n",
    "    output_fp = f\"../data/LDREF_filtered/snp_list_{chromosome}\"\n",
    "    \n",
    "    command = [\n",
    "        plink_path,\n",
    "        \"--bfile\", f\"../data/LDREF_filtered/1000G.EUR.{chromosome}\",\n",
    "        \"--write-snplist\",\n",
    "        \"--out\", output_fp\n",
    "    ]\n",
    "    \n",
    "    if not os.path.exists(output_fp + \".snplist\"):\n",
    "        subprocess.run(command, check=True)\n",
    "        print(f\"PLINK SNP extraction complete for chromosome {chromosome}.\")\n",
    "    else:\n",
    "        print(f\"SNP list for chromosome {chromosome} already exists.\")\n",
    "\n",
    "def process_sumstats(chromosome, input_fp, output_fp):\n",
    "    # Ensure output directory exists\n",
    "    os.makedirs(os.path.dirname(output_fp), exist_ok=True)\n",
    "    \n",
    "    # Generate SNP list if it doesn't exist\n",
    "    generate_snp_list(chromosome)\n",
    "    \n",
    "    # Load data\n",
    "    df = pd.read_csv(input_fp, compression='gzip', sep='\\t', header=0)\n",
    "    \n",
    "    # Compute Z-score and CHISQ\n",
    "    df[\"Z\"] = df[\"inv_var_meta_beta\"] / df[\"inv_var_meta_sebeta\"]\n",
    "    df[\"CHISQ\"] = df[\"Z\"] ** 2\n",
    "    \n",
    "    # Select and rename columns\n",
    "    df_sumstats = df.rename(columns={\n",
    "        \"rsid\": \"SNP\",\n",
    "        \"ALT\": \"A1\",\n",
    "        \"REF\": \"A2\"\n",
    "    })[[\"SNP\", \"A1\", \"A2\", \"N_ctrl\", \"CHISQ\", \"Z\"]]\n",
    "    \n",
    "    # Rename N_ctrl to N\n",
    "    df_sumstats = df_sumstats.rename(columns={\"N_ctrl\": \"N\"})\n",
    "    \n",
    "    # Filter for valid SNPs\n",
    "    df_sumstats = df_sumstats[df_sumstats['SNP'].notna()]\n",
    "    df_sumstats = df_sumstats[df_sumstats['A1'].apply(len) == 1]\n",
    "    df_sumstats = df_sumstats[df_sumstats['A2'].apply(len) == 1]\n",
    "    \n",
    "    # Load SNP set\n",
    "    snp_set = set()\n",
    "    snp_list_fp = f\"../data/LDREF_filtered/snp_list_{chromosome}.snplist\"\n",
    "    with open(snp_list_fp, \"r\") as f:\n",
    "        for line in f:\n",
    "            snp_set.add(line.strip())\n",
    "    \n",
    "    print(f\"Loaded {len(snp_set):,} SNPs.\")\n",
    "    print(\"Example SNPs:\", list(snp_set)[:5])\n",
    "    \n",
    "    # Filter based on SNP set\n",
    "    df_sumstats = df_sumstats[df_sumstats['SNP'].isin(snp_set)]\n",
    "    \n",
    "    # Save processed file\n",
    "    df_sumstats.to_csv(output_fp, sep=\"\\t\", index=False)\n",
    "    \n",
    "    print(f\"Processed file saved to: {output_fp}\")"
   ]
  },
  {
   "cell_type": "code",
   "execution_count": null,
   "metadata": {},
   "outputs": [],
   "source": []
  }
 ],
 "metadata": {
  "kernelspec": {
   "display_name": "Python 3",
   "language": "python",
   "name": "python3"
  },
  "language_info": {
   "codemirror_mode": {
    "name": "ipython",
    "version": 3
   },
   "file_extension": ".py",
   "mimetype": "text/x-python",
   "name": "python",
   "nbconvert_exporter": "python",
   "pygments_lexer": "ipython3",
   "version": "3.9.2"
  }
 },
 "nbformat": 4,
 "nbformat_minor": 2
}
