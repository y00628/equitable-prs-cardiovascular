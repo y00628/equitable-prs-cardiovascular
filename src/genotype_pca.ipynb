{
 "cells": [
  {
   "cell_type": "code",
   "execution_count": 9,
   "metadata": {},
   "outputs": [],
   "source": [
    "import numpy as np\n",
    "import pandas as pd\n",
    "import subprocess"
   ]
  },
  {
   "cell_type": "code",
   "execution_count": 10,
   "metadata": {},
   "outputs": [],
   "source": [
    "chr = 19\n",
    "pcs = 10\n",
    "pca_command = [\"./plink\", \"--bfile\", f\"../data/LDREF_filtered/1000G.EUR.{chr}\", \\\n",
    "      \"--pca\", f\"{pcs}\", \"--out\", f\"../data/LDREF_filtered_pca/1000G.EUR.{chr}_pca_{pcs}\"]\n"
   ]
  },
  {
   "cell_type": "code",
   "execution_count": 11,
   "metadata": {},
   "outputs": [
    {
     "data": {
      "text/plain": [
       "CompletedProcess(args=['./plink', '--bfile', '../data/LDREF_filtered/1000G.EUR.19', '--pca', '10', '--out', '../data/LDREF_filtered_pca/1000G.EUR.19_pca_10'], returncode=0)"
      ]
     },
     "execution_count": 11,
     "metadata": {},
     "output_type": "execute_result"
    }
   ],
   "source": [
    "subprocess.run(pca_command, check=True)\n"
   ]
  }
 ],
 "metadata": {
  "kernelspec": {
   "display_name": "dsc",
   "language": "python",
   "name": "python3"
  },
  "language_info": {
   "codemirror_mode": {
    "name": "ipython",
    "version": 3
   },
   "file_extension": ".py",
   "mimetype": "text/x-python",
   "name": "python",
   "nbconvert_exporter": "python",
   "pygments_lexer": "ipython3",
   "version": "3.9.18"
  }
 },
 "nbformat": 4,
 "nbformat_minor": 2
}
