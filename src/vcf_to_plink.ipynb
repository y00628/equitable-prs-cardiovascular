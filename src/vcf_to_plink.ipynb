{
 "cells": [
  {
   "cell_type": "code",
   "execution_count": 4,
   "metadata": {},
   "outputs": [],
   "source": [
    "#!chmod 700 plink2"
   ]
  },
  {
   "cell_type": "code",
   "execution_count": null,
   "metadata": {},
   "outputs": [
    {
     "name": "stdout",
     "output_type": "stream",
     "text": [
      "Running command for chromosome 1:\n",
      "./plink2 --vcf ../data/1000_genomes_vcf/ALL.chr1.phase3_shapeit2_mvncall_integrated_v5b.20130502.genotypes.vcf.gz --make-bed --out ../../../data/1000_genomes_bbf_trimmed/chr1 --max-alleles 2\n",
      "Running command for chromosome 2:\n",
      "./plink2 --vcf ../data/1000_genomes_vcf/ALL.chr2.phase3_shapeit2_mvncall_integrated_v5b.20130502.genotypes.vcf.gz --make-bed --out ../../../data/1000_genomes_bbf_trimmed/chr2 --max-alleles 2\n",
      "Running command for chromosome 3:\n",
      "./plink2 --vcf ../data/1000_genomes_vcf/ALL.chr3.phase3_shapeit2_mvncall_integrated_v5b.20130502.genotypes.vcf.gz --make-bed --out ../../../data/1000_genomes_bbf_trimmed/chr3 --max-alleles 2\n",
      "Running command for chromosome 4:\n",
      "./plink2 --vcf ../data/1000_genomes_vcf/ALL.chr4.phase3_shapeit2_mvncall_integrated_v5b.20130502.genotypes.vcf.gz --make-bed --out ../../../data/1000_genomes_bbf_trimmed/chr4 --max-alleles 2\n",
      "Running command for chromosome 5:\n",
      "./plink2 --vcf ../data/1000_genomes_vcf/ALL.chr5.phase3_shapeit2_mvncall_integrated_v5b.20130502.genotypes.vcf.gz --make-bed --out ../../../data/1000_genomes_bbf_trimmed/chr5 --max-alleles 2\n",
      "Running command for chromosome 6:\n",
      "./plink2 --vcf ../data/1000_genomes_vcf/ALL.chr6.phase3_shapeit2_mvncall_integrated_v5b.20130502.genotypes.vcf.gz --make-bed --out ../../../data/1000_genomes_bbf_trimmed/chr6 --max-alleles 2\n",
      "Running command for chromosome 7:\n",
      "./plink2 --vcf ../data/1000_genomes_vcf/ALL.chr7.phase3_shapeit2_mvncall_integrated_v5b.20130502.genotypes.vcf.gz --make-bed --out ../../../data/1000_genomes_bbf_trimmed/chr7 --max-alleles 2\n",
      "Running command for chromosome 8:\n",
      "./plink2 --vcf ../data/1000_genomes_vcf/ALL.chr8.phase3_shapeit2_mvncall_integrated_v5b.20130502.genotypes.vcf.gz --make-bed --out ../../../data/1000_genomes_bbf_trimmed/chr8 --max-alleles 2\n",
      "Running command for chromosome 9:\n",
      "./plink2 --vcf ../data/1000_genomes_vcf/ALL.chr9.phase3_shapeit2_mvncall_integrated_v5b.20130502.genotypes.vcf.gz --make-bed --out ../../../data/1000_genomes_bbf_trimmed/chr9 --max-alleles 2\n",
      "Running command for chromosome 10:\n",
      "./plink2 --vcf ../data/1000_genomes_vcf/ALL.chr10.phase3_shapeit2_mvncall_integrated_v5b.20130502.genotypes.vcf.gz --make-bed --out ../../../data/1000_genomes_bbf_trimmed/chr10 --max-alleles 2\n",
      "Running command for chromosome 11:\n",
      "./plink2 --vcf ../data/1000_genomes_vcf/ALL.chr11.phase3_shapeit2_mvncall_integrated_v5b.20130502.genotypes.vcf.gz --make-bed --out ../../../data/1000_genomes_bbf_trimmed/chr11 --max-alleles 2\n",
      "Running command for chromosome 12:\n",
      "./plink2 --vcf ../data/1000_genomes_vcf/ALL.chr12.phase3_shapeit2_mvncall_integrated_v5b.20130502.genotypes.vcf.gz --make-bed --out ../../../data/1000_genomes_bbf_trimmed/chr12 --max-alleles 2\n",
      "Running command for chromosome 13:\n",
      "./plink2 --vcf ../data/1000_genomes_vcf/ALL.chr13.phase3_shapeit2_mvncall_integrated_v5b.20130502.genotypes.vcf.gz --make-bed --out ../../../data/1000_genomes_bbf_trimmed/chr13 --max-alleles 2\n",
      "Running command for chromosome 14:\n",
      "./plink2 --vcf ../data/1000_genomes_vcf/ALL.chr14.phase3_shapeit2_mvncall_integrated_v5b.20130502.genotypes.vcf.gz --make-bed --out ../../../data/1000_genomes_bbf_trimmed/chr14 --max-alleles 2\n",
      "Running command for chromosome 15:\n",
      "./plink2 --vcf ../data/1000_genomes_vcf/ALL.chr15.phase3_shapeit2_mvncall_integrated_v5b.20130502.genotypes.vcf.gz --make-bed --out ../../../data/1000_genomes_bbf_trimmed/chr15 --max-alleles 2\n",
      "Running command for chromosome 16:\n",
      "./plink2 --vcf ../data/1000_genomes_vcf/ALL.chr16.phase3_shapeit2_mvncall_integrated_v5b.20130502.genotypes.vcf.gz --make-bed --out ../../../data/1000_genomes_bbf_trimmed/chr16 --max-alleles 2\n",
      "Running command for chromosome 17:\n",
      "./plink2 --vcf ../data/1000_genomes_vcf/ALL.chr17.phase3_shapeit2_mvncall_integrated_v5b.20130502.genotypes.vcf.gz --make-bed --out ../../../data/1000_genomes_bbf_trimmed/chr17 --max-alleles 2\n",
      "Running command for chromosome 18:\n",
      "./plink2 --vcf ../data/1000_genomes_vcf/ALL.chr18.phase3_shapeit2_mvncall_integrated_v5b.20130502.genotypes.vcf.gz --make-bed --out ../../../data/1000_genomes_bbf_trimmed/chr18 --max-alleles 2\n",
      "Running command for chromosome 19:\n",
      "./plink2 --vcf ../data/1000_genomes_vcf/ALL.chr19.phase3_shapeit2_mvncall_integrated_v5b.20130502.genotypes.vcf.gz --make-bed --out ../../../data/1000_genomes_bbf_trimmed/chr19 --max-alleles 2\n",
      "Running command for chromosome 20:\n",
      "./plink2 --vcf ../data/1000_genomes_vcf/ALL.chr20.phase3_shapeit2_mvncall_integrated_v5b.20130502.genotypes.vcf.gz --make-bed --out ../../../data/1000_genomes_bbf_trimmed/chr20 --max-alleles 2\n",
      "Running command for chromosome 21:\n",
      "./plink2 --vcf ../data/1000_genomes_vcf/ALL.chr21.phase3_shapeit2_mvncall_integrated_v5b.20130502.genotypes.vcf.gz --make-bed --out ../../../data/1000_genomes_bbf_trimmed/chr21 --max-alleles 2\n",
      "Running command for chromosome 22:\n",
      "./plink2 --vcf ../data/1000_genomes_vcf/ALL.chr22.phase3_shapeit2_mvncall_integrated_v5b.20130502.genotypes.vcf.gz --make-bed --out ../../../data/1000_genomes_bbf_trimmed/chr22 --max-alleles 2\n"
     ]
    }
   ],
   "source": [
    "# List of chromosomes (you can add 'X' and 'Y' if you want to include them)\n",
    "chromosomes = [str(i) for i in range(1, 23)]  # For chromosomes 1 to 22\n",
    "# chromosomes = [str(i) for i in range(1, 23)] + ['X', 'Y']  # Optionally add X and Y\n",
    "\n",
    "# Base paths for VCF and output files\n",
    "vcf_base_path = \"../data/1000_genomes_vcf/ALL.chr\"\n",
    "output_base_path = \"../data/1000_genomes_bbf_trimmed/chr\"\n",
    "\n",
    "# Loop through each chromosome and run the PLINK command\n",
    "for chrom in chromosomes:\n",
    "    vcf_file = f\"{vcf_base_path}{chrom}.phase3_shapeit2_mvncall_integrated_v5b.20130502.genotypes.vcf.gz\"\n",
    "    output_prefix = f\"{output_base_path}{chrom}\"\n",
    "    \n",
    "    # Construct the PLINK command\n",
    "    plink_command = f\"./plink2 --vcf {vcf_file} --make-bed --out {output_prefix} --max-alleles 2\"\n",
    "    \n",
    "    # Execute the command (using the ! operator to run the shell command in Jupyter)\n",
    "    print(f\"Running command for chromosome {chrom}:\")\n",
    "    print(plink_command)\n",
    "    !{plink_command}\n"
   ]
  },
  {
   "cell_type": "code",
   "execution_count": null,
   "metadata": {},
   "outputs": [],
   "source": []
  }
 ],
 "metadata": {
  "kernelspec": {
   "display_name": "dsc",
   "language": "python",
   "name": "python3"
  },
  "language_info": {
   "codemirror_mode": {
    "name": "ipython",
    "version": 3
   },
   "file_extension": ".py",
   "mimetype": "text/x-python",
   "name": "python",
   "nbconvert_exporter": "python",
   "pygments_lexer": "ipython3",
   "version": "3.9.18"
  }
 },
 "nbformat": 4,
 "nbformat_minor": 2
}
