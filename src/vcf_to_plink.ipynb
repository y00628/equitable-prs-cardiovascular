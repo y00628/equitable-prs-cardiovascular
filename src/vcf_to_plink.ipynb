{
 "cells": [
  {
   "cell_type": "code",
   "execution_count": null,
   "metadata": {},
   "outputs": [],
   "source": [
    "#!chmod 700 plink2"
   ]
  },
  {
   "cell_type": "code",
   "execution_count": null,
   "metadata": {},
   "outputs": [],
   "source": [
    "# List of chromosomes (you can add 'X' and 'Y' if you want to include them)\n",
    "chromosomes = [str(i) for i in range(1, 23)]  # For chromosomes 1 to 22\n",
    "# chromosomes = [str(i) for i in range(1, 23)] + ['X', 'Y']  # Optionally add X and Y\n",
    "\n",
    "# Base paths for VCF and output files\n",
    "vcf_base_path = \"../data/1000_genomes_vcf/ALL.chr\"\n",
    "output_base_path = \"../data/1000_genomes_bbf_trimmed/chr\"\n",
    "\n",
    "# Loop through each chromosome and run the PLINK command\n",
    "for chrom in chromosomes:\n",
    "    vcf_file = f\"{vcf_base_path}{chrom}.phase3_shapeit2_mvncall_integrated_v5b.20130502.genotypes.vcf.gz\"\n",
    "    output_prefix = f\"{output_base_path}{chrom}\"\n",
    "    \n",
    "    # Construct the PLINK command\n",
    "    plink_command = f\"./plink2 --vcf {vcf_file} --make-bed --out {output_prefix} --max-alleles 2\"\n",
    "    \n",
    "    # Execute the command (using the ! operator to run the shell command in Jupyter)\n",
    "    print(f\"Running command for chromosome {chrom}:\")\n",
    "    print(plink_command)\n",
    "    !{plink_command}\n"
   ]
  }
 ],
 "metadata": {
  "kernelspec": {
   "display_name": "dsc",
   "language": "python",
   "name": "python3"
  },
  "language_info": {
   "name": "python",
   "version": "3.9.18"
  }
 },
 "nbformat": 4,
 "nbformat_minor": 2
}
