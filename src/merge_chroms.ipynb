{
 "cells": [
  {
   "cell_type": "code",
   "execution_count": 18,
   "metadata": {},
   "outputs": [],
   "source": [
    "import subprocess\n",
    "import urllib\n"
   ]
  },
  {
   "cell_type": "code",
   "execution_count": 13,
   "metadata": {},
   "outputs": [
    {
     "name": "stdout",
     "output_type": "stream",
     "text": [
      "An error occurred while running PLINK:\n",
      "Error: 'tabix' is not recognized as an internal or external command,\n",
      "operable program or batch file.\n",
      "\n"
     ]
    }
   ],
   "source": [
    "# Define the command\n",
    "cmd1 = 'plink --bfile ../data/LDREF/1000G.EUR.1 --merge-list ../data/merge_list.txt --make-bed --out ../data/MERGED_LDREF/1000G.EUR.ALL'\n",
    "cmd2 = 'plink --bfile ../data/MERGED_LDREF/1000G.EUR.ALL --recode vcf bgz --out ../data/MERGED_LDREF/1000G.EUR.ALL'\n",
    "cmd3 = 'tabix -p vcf ../data/MERGED_LDREF/1000G.EUR.ALL.vcf.gz'\n",
    "\n",
    "# Run the command using subprocess.run\n",
    "try:\n",
    "    result = subprocess.run(cmd1, shell=True, check=True, stdout=subprocess.PIPE, stderr=subprocess.PIPE)\n",
    "    result = subprocess.run(cmd2, shell=True, check=True, stdout=subprocess.PIPE, stderr=subprocess.PIPE)\n",
    "    result = subprocess.run(cmd3, shell=True, check=True, stdout=subprocess.PIPE, stderr=subprocess.PIPE)\n",
    "    \n",
    "    # If successful, print the output\n",
    "    print(result.stdout.decode())  # Decodes the byte output from stdout\n",
    "except subprocess.CalledProcessError as e:\n",
    "    # Handle the error if the command fails\n",
    "    print(\"An error occurred while running PLINK:\")\n",
    "    print(\"Error:\", e.stderr.decode())  # Decodes the byte output from stderr\n"
   ]
  },
  {
   "cell_type": "code",
   "execution_count": 19,
   "metadata": {},
   "outputs": [
    {
     "data": {
      "text/plain": [
       "('./master.zip', <http.client.HTTPMessage at 0x21415030820>)"
      ]
     },
     "execution_count": 19,
     "metadata": {},
     "output_type": "execute_result"
    }
   ],
   "source": [
    "urllib.request.urlretrieve('https://github.com/gabraham/plink2R/archive/master.zip', './master.zip')\n"
   ]
  },
  {
   "cell_type": "code",
   "execution_count": null,
   "metadata": {},
   "outputs": [],
   "source": []
  }
 ],
 "metadata": {
  "kernelspec": {
   "display_name": "dsc",
   "language": "python",
   "name": "python3"
  },
  "language_info": {
   "codemirror_mode": {
    "name": "ipython",
    "version": 3
   },
   "file_extension": ".py",
   "mimetype": "text/x-python",
   "name": "python",
   "nbconvert_exporter": "python",
   "pygments_lexer": "ipython3",
   "version": "3.9.18"
  }
 },
 "nbformat": 4,
 "nbformat_minor": 2
}
